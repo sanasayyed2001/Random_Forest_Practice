{
 "cells": [
  {
   "cell_type": "markdown",
   "id": "fb1a9791-9bf4-485e-8b08-1f2d084ac87d",
   "metadata": {},
   "source": [
    "bagging # random forest is an unsumble method used for both classification and regression methods."
   ]
  },
  {
   "cell_type": "markdown",
   "id": "60e938cd-4521-4c22-91ad-e8c867b0acf0",
   "metadata": {},
   "source": [
    "it work by instructing multiple decision tree during training and giving the output as mode for classification and mean prediction for regressionof the individual tree\n"
   ]
  },
  {
   "cell_type": "markdown",
   "id": "586bb632-925b-428b-a08e-03a7fbde39be",
   "metadata": {},
   "source": [
    "# 4 important points\n",
    "#1. decision tree\n",
    "2.baggibg (bootstrap aggregation)\n",
    "3.random feature selection\n",
    "4.ensemble"
   ]
  },
  {
   "cell_type": "code",
   "execution_count": 6,
   "id": "36c0692c-44b1-4fb6-888a-3a134bda210a",
   "metadata": {},
   "outputs": [],
   "source": [
    "import numpy as np \n",
    "import pandas as pd\n",
    "from sklearn.model_selection import train_test_split\n",
    "from sklearn.ensemble import RandomForestClassifier\n",
    "from sklearn.metrics import accuracy_score\n",
    "from sklearn.datasets import load_iris"
   ]
  },
  {
   "cell_type": "code",
   "execution_count": 9,
   "id": "f2bec842-e88f-4253-8fcb-b3a6d61ddd38",
   "metadata": {},
   "outputs": [],
   "source": [
    "data_iris = load_iris()\n",
    "#print(data_iris)\n",
    "X = data_iris.data  # feature \n",
    "y = data_iris.target  # label"
   ]
  },
  {
   "cell_type": "code",
   "execution_count": 11,
   "id": "1d413a54-9252-4123-b41e-60b853552bcc",
   "metadata": {},
   "outputs": [],
   "source": [
    "#splitting the data into training and testing data \n",
    "X_train, X_test, y_train, y_test = train_test_split( X, y, test_size=0.33, random_state=90)\n"
   ]
  },
  {
   "cell_type": "code",
   "execution_count": 12,
   "id": "a4b18c2f-02d0-4004-b09d-f06acd4f6eff",
   "metadata": {},
   "outputs": [],
   "source": [
    "#instance create \n",
    "random_clf = RandomForestClassifier(n_estimators=100,oob_score = True,random_state = 90)"
   ]
  },
  {
   "cell_type": "code",
   "execution_count": 13,
   "id": "4d2e190a-855d-4aed-bc61-26db18d5b71d",
   "metadata": {},
   "outputs": [
    {
     "data": {
      "text/html": [
       "<style>#sk-container-id-1 {color: black;background-color: white;}#sk-container-id-1 pre{padding: 0;}#sk-container-id-1 div.sk-toggleable {background-color: white;}#sk-container-id-1 label.sk-toggleable__label {cursor: pointer;display: block;width: 100%;margin-bottom: 0;padding: 0.3em;box-sizing: border-box;text-align: center;}#sk-container-id-1 label.sk-toggleable__label-arrow:before {content: \"▸\";float: left;margin-right: 0.25em;color: #696969;}#sk-container-id-1 label.sk-toggleable__label-arrow:hover:before {color: black;}#sk-container-id-1 div.sk-estimator:hover label.sk-toggleable__label-arrow:before {color: black;}#sk-container-id-1 div.sk-toggleable__content {max-height: 0;max-width: 0;overflow: hidden;text-align: left;background-color: #f0f8ff;}#sk-container-id-1 div.sk-toggleable__content pre {margin: 0.2em;color: black;border-radius: 0.25em;background-color: #f0f8ff;}#sk-container-id-1 input.sk-toggleable__control:checked~div.sk-toggleable__content {max-height: 200px;max-width: 100%;overflow: auto;}#sk-container-id-1 input.sk-toggleable__control:checked~label.sk-toggleable__label-arrow:before {content: \"▾\";}#sk-container-id-1 div.sk-estimator input.sk-toggleable__control:checked~label.sk-toggleable__label {background-color: #d4ebff;}#sk-container-id-1 div.sk-label input.sk-toggleable__control:checked~label.sk-toggleable__label {background-color: #d4ebff;}#sk-container-id-1 input.sk-hidden--visually {border: 0;clip: rect(1px 1px 1px 1px);clip: rect(1px, 1px, 1px, 1px);height: 1px;margin: -1px;overflow: hidden;padding: 0;position: absolute;width: 1px;}#sk-container-id-1 div.sk-estimator {font-family: monospace;background-color: #f0f8ff;border: 1px dotted black;border-radius: 0.25em;box-sizing: border-box;margin-bottom: 0.5em;}#sk-container-id-1 div.sk-estimator:hover {background-color: #d4ebff;}#sk-container-id-1 div.sk-parallel-item::after {content: \"\";width: 100%;border-bottom: 1px solid gray;flex-grow: 1;}#sk-container-id-1 div.sk-label:hover label.sk-toggleable__label {background-color: #d4ebff;}#sk-container-id-1 div.sk-serial::before {content: \"\";position: absolute;border-left: 1px solid gray;box-sizing: border-box;top: 0;bottom: 0;left: 50%;z-index: 0;}#sk-container-id-1 div.sk-serial {display: flex;flex-direction: column;align-items: center;background-color: white;padding-right: 0.2em;padding-left: 0.2em;position: relative;}#sk-container-id-1 div.sk-item {position: relative;z-index: 1;}#sk-container-id-1 div.sk-parallel {display: flex;align-items: stretch;justify-content: center;background-color: white;position: relative;}#sk-container-id-1 div.sk-item::before, #sk-container-id-1 div.sk-parallel-item::before {content: \"\";position: absolute;border-left: 1px solid gray;box-sizing: border-box;top: 0;bottom: 0;left: 50%;z-index: -1;}#sk-container-id-1 div.sk-parallel-item {display: flex;flex-direction: column;z-index: 1;position: relative;background-color: white;}#sk-container-id-1 div.sk-parallel-item:first-child::after {align-self: flex-end;width: 50%;}#sk-container-id-1 div.sk-parallel-item:last-child::after {align-self: flex-start;width: 50%;}#sk-container-id-1 div.sk-parallel-item:only-child::after {width: 0;}#sk-container-id-1 div.sk-dashed-wrapped {border: 1px dashed gray;margin: 0 0.4em 0.5em 0.4em;box-sizing: border-box;padding-bottom: 0.4em;background-color: white;}#sk-container-id-1 div.sk-label label {font-family: monospace;font-weight: bold;display: inline-block;line-height: 1.2em;}#sk-container-id-1 div.sk-label-container {text-align: center;}#sk-container-id-1 div.sk-container {/* jupyter's `normalize.less` sets `[hidden] { display: none; }` but bootstrap.min.css set `[hidden] { display: none !important; }` so we also need the `!important` here to be able to override the default hidden behavior on the sphinx rendered scikit-learn.org. See: https://github.com/scikit-learn/scikit-learn/issues/21755 */display: inline-block !important;position: relative;}#sk-container-id-1 div.sk-text-repr-fallback {display: none;}</style><div id=\"sk-container-id-1\" class=\"sk-top-container\"><div class=\"sk-text-repr-fallback\"><pre>RandomForestClassifier(oob_score=True, random_state=90)</pre><b>In a Jupyter environment, please rerun this cell to show the HTML representation or trust the notebook. <br />On GitHub, the HTML representation is unable to render, please try loading this page with nbviewer.org.</b></div><div class=\"sk-container\" hidden><div class=\"sk-item\"><div class=\"sk-estimator sk-toggleable\"><input class=\"sk-toggleable__control sk-hidden--visually\" id=\"sk-estimator-id-1\" type=\"checkbox\" checked><label for=\"sk-estimator-id-1\" class=\"sk-toggleable__label sk-toggleable__label-arrow\">RandomForestClassifier</label><div class=\"sk-toggleable__content\"><pre>RandomForestClassifier(oob_score=True, random_state=90)</pre></div></div></div></div></div>"
      ],
      "text/plain": [
       "RandomForestClassifier(oob_score=True, random_state=90)"
      ]
     },
     "execution_count": 13,
     "metadata": {},
     "output_type": "execute_result"
    }
   ],
   "source": [
    "# model fit \n",
    "random_clf.fit(X_train,y_train)"
   ]
  },
  {
   "cell_type": "code",
   "execution_count": 16,
   "id": "ea3efa82-46d0-477e-be69-465fe4304940",
   "metadata": {},
   "outputs": [],
   "source": [
    "#predicting the model using test data\n",
    "y_pred = random_clf.predict(X_test)"
   ]
  },
  {
   "cell_type": "code",
   "execution_count": 19,
   "id": "4462c50c-a1b7-4512-bcd9-89fed0e8662d",
   "metadata": {},
   "outputs": [
    {
     "name": "stdout",
     "output_type": "stream",
     "text": [
      "accuracy score of random classifier is 96.00%\n"
     ]
    }
   ],
   "source": [
    "#model evaluation \n",
    "accuracy = accuracy_score(y_test,y_pred)\n",
    "print(f'accuracy score of random classifier is {accuracy*100:.2f}%')"
   ]
  },
  {
   "cell_type": "code",
   "execution_count": 27,
   "id": "fda3ebb6-5f5c-46ef-915e-26d0c6ea80d4",
   "metadata": {},
   "outputs": [
    {
     "name": "stdout",
     "output_type": "stream",
     "text": [
      "freature:sepal length (cm),importance:10.05\n",
      "freature:sepal width (cm),importance:3.70\n",
      "freature:petal length (cm),importance:37.78\n",
      "freature:petal width (cm),importance:48.46\n"
     ]
    }
   ],
   "source": [
    "#feature selection like x(4 sepal length,sepal width ,petal length,petal widthis how it is effect \n",
    "importance = random_clf.feature_importances_\n",
    "feature_names = data_iris.feature_names\n",
    "for feature_names,importance in zip (feature_names,importance):\n",
    "    print(f'freature:{feature_names},importance:{importance*100:.2f}')"
   ]
  },
  {
   "cell_type": "code",
   "execution_count": 29,
   "id": "91c3eca2-b72c-4723-bc61-003b0a90d1dc",
   "metadata": {},
   "outputs": [
    {
     "name": "stdout",
     "output_type": "stream",
     "text": [
      "0.93\n"
     ]
    }
   ],
   "source": [
    "#OOB score \n",
    "oob_score = random_clf.oob_score_\n",
    "print(oob_score)"
   ]
  },
  {
   "cell_type": "code",
   "execution_count": 33,
   "id": "784b6ed9-e714-4401-abfa-30bf2059e397",
   "metadata": {},
   "outputs": [
    {
     "name": "stdout",
     "output_type": "stream",
     "text": [
      "0.06999999999999995\n"
     ]
    }
   ],
   "source": [
    "#oob score error \n",
    "oob_error = 1- oob_score\n",
    "print(oob_error)"
   ]
  },
  {
   "cell_type": "code",
   "execution_count": 34,
   "id": "3dcba971-bd5a-454e-bb2e-1ed8ee1daa47",
   "metadata": {},
   "outputs": [
    {
     "name": "stdout",
     "output_type": "stream",
     "text": [
      "oob score :0.93,oob error:0.07\n"
     ]
    }
   ],
   "source": [
    "print(f'oob score :{oob_score},oob error:{oob_error:.2f}')"
   ]
  },
  {
   "cell_type": "code",
   "execution_count": 35,
   "id": "1f194a2a-71cf-45d4-87ed-7612974a4621",
   "metadata": {},
   "outputs": [],
   "source": [
    "from sklearn.ensemble import RandomForestRegressor\n",
    "from sklearn.metrics import mean_absolute_error,mean_squared_error,r2_score"
   ]
  },
  {
   "cell_type": "code",
   "execution_count": 39,
   "id": "7fc5450c-7fa9-44f1-b3fa-b7a90129c775",
   "metadata": {},
   "outputs": [
    {
     "name": "stdout",
     "output_type": "stream",
     "text": [
      "0.04 0.017084000000000002 0.9773301486199575\n"
     ]
    }
   ],
   "source": [
    "#instance creation for regression\n",
    "random_clf_reg = RandomForestRegressor(n_estimators=100,oob_score = True,random_state = 90)\n",
    "# model fit \n",
    "random_clf_reg.fit(X_train,y_train)\n",
    "#predicting the model using test data\n",
    "y_pred_reg = random_clf_reg.predict(X_test)\n",
    "#model evaluation \n",
    "mae = mean_absolute_error(y_test,y_pred_reg)\n",
    "mse = mean_squared_error(y_test,y_pred_reg)\n",
    "r2score = r2_score(y_test,y_pred_reg)\n",
    "\n",
    "print(mae,mse,r2score)\n"
   ]
  },
  {
   "cell_type": "code",
   "execution_count": 40,
   "id": "5b9ea13e-5ff4-420f-8b14-d4041257bdfe",
   "metadata": {},
   "outputs": [
    {
     "name": "stdout",
     "output_type": "stream",
     "text": [
      "freature:sepal length (cm),importance:0.73\n",
      "freature:sepal width (cm),importance:0.91\n",
      "freature:petal length (cm),importance:38.93\n",
      "freature:petal width (cm),importance:59.43\n"
     ]
    }
   ],
   "source": [
    "#feature selection like x(4 sepal length,sepal width ,petal length,petal widthis how it is effect \n",
    "importance = random_clf_reg.feature_importances_\n",
    "feature_names = data_iris.feature_names\n",
    "for feature_names,importance in zip (feature_names,importance):\n",
    "    print(f'freature:{feature_names},importance:{importance*100:.2f}')"
   ]
  },
  {
   "cell_type": "code",
   "execution_count": 41,
   "id": "cb2e3fa0-bd26-4553-9c21-90995ad6116e",
   "metadata": {},
   "outputs": [
    {
     "name": "stdout",
     "output_type": "stream",
     "text": [
      "0.9277656403235521\n"
     ]
    }
   ],
   "source": [
    "#OOB score \n",
    "oob_score = random_clf_reg.oob_score_\n",
    "print(oob_score)"
   ]
  },
  {
   "cell_type": "code",
   "execution_count": 42,
   "id": "82939859-6208-47de-95db-2984a35e8ac0",
   "metadata": {},
   "outputs": [
    {
     "name": "stdout",
     "output_type": "stream",
     "text": [
      "0.07223435967644787\n"
     ]
    }
   ],
   "source": [
    "#oob score error \n",
    "oob_error = 1- oob_score\n",
    "print(oob_error)"
   ]
  },
  {
   "cell_type": "code",
   "execution_count": 43,
   "id": "0539c8cf-d2a2-4e93-accd-5e3be3918f9a",
   "metadata": {},
   "outputs": [
    {
     "name": "stdout",
     "output_type": "stream",
     "text": [
      "oob score :0.9277656403235521,oob error:0.07\n"
     ]
    }
   ],
   "source": [
    "print(f'oob score :{oob_score},oob error:{oob_error:.2f}')"
   ]
  },
  {
   "cell_type": "code",
   "execution_count": null,
   "id": "d504acc7-90f4-419d-8cb8-bbcd724bc832",
   "metadata": {},
   "outputs": [],
   "source": []
  }
 ],
 "metadata": {
  "kernelspec": {
   "display_name": "Python 3 (ipykernel)",
   "language": "python",
   "name": "python3"
  },
  "language_info": {
   "codemirror_mode": {
    "name": "ipython",
    "version": 3
   },
   "file_extension": ".py",
   "mimetype": "text/x-python",
   "name": "python",
   "nbconvert_exporter": "python",
   "pygments_lexer": "ipython3",
   "version": "3.11.7"
  }
 },
 "nbformat": 4,
 "nbformat_minor": 5
}
